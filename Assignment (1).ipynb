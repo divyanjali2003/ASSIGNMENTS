{
 "cells": [
  {
   "cell_type": "code",
   "execution_count": null,
   "id": "21764a59-9294-4f6c-b97a-c3b566477028",
   "metadata": {},
   "outputs": [],
   "source": [
    "import pandas as pd\n",
    "ds=pd.read_csv('sample_submission.csv')\n",
    "ds"
   ]
  },
  {
   "cell_type": "code",
   "execution_count": null,
   "id": "18834407-4ae1-43c0-8a7c-cce5a403853d",
   "metadata": {},
   "outputs": [],
   "source": [
    "import pandas as pd\n",
    "ds=pd.read_csv('sample_submission.csv')\n",
    "print(ds.head(10))"
   ]
  },
  {
   "cell_type": "code",
   "execution_count": null,
   "id": "c39c917a-fdd8-4b30-a2f3-37c5fc723e4a",
   "metadata": {},
   "outputs": [],
   "source": [
    "print(ds.tail())"
   ]
  },
  {
   "cell_type": "code",
   "execution_count": null,
   "id": "e9d79ed4-d979-4a5c-a311-1f4d7f17cd8e",
   "metadata": {},
   "outputs": [],
   "source": [
    "print(ds.info())"
   ]
  },
  {
   "cell_type": "code",
   "execution_count": null,
   "id": "1d0aa9c5-ab55-44be-a916-e8e7ba906002",
   "metadata": {},
   "outputs": [],
   "source": [
    "ds.describe()"
   ]
  },
  {
   "cell_type": "code",
   "execution_count": null,
   "id": "dc6ebda1-08f9-4dee-bd27-e60c7e8274d6",
   "metadata": {},
   "outputs": [],
   "source": [
    "ds.columns"
   ]
  },
  {
   "cell_type": "code",
   "execution_count": null,
   "id": "c0150e19-d53e-4a32-9ac4-8f0f401e89ec",
   "metadata": {},
   "outputs": [],
   "source": [
    "ds.isnull().sum()"
   ]
  },
  {
   "cell_type": "code",
   "execution_count": null,
   "id": "6c4aab9a-3dda-42e4-800a-ba207076cfb7",
   "metadata": {},
   "outputs": [],
   "source": [
    "ds['ID'].unique()"
   ]
  },
  {
   "cell_type": "code",
   "execution_count": null,
   "id": "f6c9ab17-488c-45b0-b89c-6240c88553bb",
   "metadata": {},
   "outputs": [],
   "source": [
    "ds.dropna()"
   ]
  },
  {
   "cell_type": "code",
   "execution_count": null,
   "id": "3369630d-fb52-461f-9a00-b4f081585fbe",
   "metadata": {},
   "outputs": [],
   "source": [
    "ds.dropna(axis=1)"
   ]
  },
  {
   "cell_type": "code",
   "execution_count": null,
   "id": "4878790b-b5eb-4b17-b05b-44d67a7475cc",
   "metadata": {},
   "outputs": [],
   "source": [
    "ds"
   ]
  },
  {
   "cell_type": "code",
   "execution_count": null,
   "id": "00272938-7fa2-4a38-bc7b-e7e483f4815f",
   "metadata": {},
   "outputs": [],
   "source": [
    "import pandas as pd\n",
    "import numpy as np\n",
    "data={\n",
    "    \"calories\":[100,200,300,np.nan],\n",
    "    \"duration\":[500,600,700,np.nan]}\n",
    "df=pd.DataFrame(data)\n",
    "df"
   ]
  },
  {
   "cell_type": "code",
   "execution_count": null,
   "id": "73f50f80-2449-439d-9d81-fdd2378a8dbe",
   "metadata": {},
   "outputs": [],
   "source": [
    "df['calories'].fillna(500,inplace=True)"
   ]
  },
  {
   "cell_type": "code",
   "execution_count": null,
   "id": "b927437a-5953-4910-8967-6185f9929ffe",
   "metadata": {},
   "outputs": [],
   "source": [
    "df"
   ]
  },
  {
   "cell_type": "code",
   "execution_count": null,
   "id": "afc8b0b7-a3a7-4a29-8dff-b7369b8e55a4",
   "metadata": {},
   "outputs": [],
   "source": [
    "df['calories'].fillna(df['calories'].mean(),inplace=True)"
   ]
  },
  {
   "cell_type": "code",
   "execution_count": null,
   "id": "5a6d181f-f118-4b53-9970-2533d465c6c0",
   "metadata": {},
   "outputs": [],
   "source": [
    "df"
   ]
  },
  {
   "cell_type": "code",
   "execution_count": null,
   "id": "8c322396-8994-484c-930a-64235525ee54",
   "metadata": {},
   "outputs": [],
   "source": [
    "df.drop_duplicates()"
   ]
  },
  {
   "cell_type": "code",
   "execution_count": null,
   "id": "401138bb-eb17-4577-9e91-1bfb63a30231",
   "metadata": {},
   "outputs": [],
   "source": [
    "df"
   ]
  },
  {
   "cell_type": "code",
   "execution_count": null,
   "id": "7cace285-5bc1-4d35-8cbc-4d775178508b",
   "metadata": {},
   "outputs": [],
   "source": [
    "ds.rename(columns={'ID':'Name'},inplace=True)"
   ]
  },
  {
   "cell_type": "code",
   "execution_count": null,
   "id": "d4615588-3b80-475c-8a2f-c39082f29c5d",
   "metadata": {},
   "outputs": [],
   "source": [
    "ds"
   ]
  },
  {
   "cell_type": "code",
   "execution_count": null,
   "id": "90b1e3e7-805b-4df3-ab7b-1cb3c6857160",
   "metadata": {},
   "outputs": [],
   "source": [
    "filtered_ds=ds[ds['Name']>458996]"
   ]
  },
  {
   "cell_type": "code",
   "execution_count": null,
   "id": "771624b1-2b48-4122-811e-44ed47ca9649",
   "metadata": {},
   "outputs": [],
   "source": [
    "ds=ds[['Name','Segmentation']]"
   ]
  },
  {
   "cell_type": "code",
   "execution_count": null,
   "id": "ec88de87-0fd0-4a37-9bc5-51d3a1f72533",
   "metadata": {},
   "outputs": [],
   "source": [
    "ds"
   ]
  },
  {
   "cell_type": "code",
   "execution_count": null,
   "id": "578e0f94-9de3-4f32-b4a9-a0f0f31f6bbb",
   "metadata": {},
   "outputs": [],
   "source": [
    "df['sum']=df['calories']+df['duration']"
   ]
  },
  {
   "cell_type": "code",
   "execution_count": null,
   "id": "30a72e76-a6a5-48b9-b260-2dbbc0c384a1",
   "metadata": {},
   "outputs": [],
   "source": [
    "df"
   ]
  },
  {
   "cell_type": "code",
   "execution_count": null,
   "id": "a00556e7-f4db-4da1-9199-82aa934b155c",
   "metadata": {},
   "outputs": [],
   "source": [
    "df.to_csv(\"data.csv\", index=False)"
   ]
  },
  {
   "cell_type": "code",
   "execution_count": null,
   "id": "e014d35d-1b6f-48b9-8083-b085a214cbb7",
   "metadata": {},
   "outputs": [],
   "source": [
    "df"
   ]
  },
  {
   "cell_type": "code",
   "execution_count": null,
   "id": "1c97943c-5a25-410a-aa47-1ea45f22cc50",
   "metadata": {},
   "outputs": [],
   "source": [
    "import pandas as pd\n",
    "data={'product':['kiwi','ice cream','dairy milk','kit kat'],\n",
    "      'price':[400,500,600,100]}\n",
    "df1=pd.DataFrame(data)\n",
    "calculate=df1.groupby('product')['price'].sum()\n",
    "print(calculate)"
   ]
  },
  {
   "cell_type": "code",
   "execution_count": null,
   "id": "ef567f09-e274-49bd-9279-e52a2241f962",
   "metadata": {},
   "outputs": [],
   "source": [
    "import pandas as pd\n",
    "df2 = pd.DataFrame({'A':[10,20],'B':[30, 40]})\n",
    "df3 = pd.DataFrame({'A':[50,60],'B':[70, 80]})\n",
    "concatenation=pd.concat([df2,df3],axis=0)\n",
    "print(concatenation)"
   ]
  },
  {
   "cell_type": "code",
   "execution_count": null,
   "id": "238b1dde-9a50-4083-972a-6eb01e531d01",
   "metadata": {},
   "outputs": [],
   "source": [
    "import pandas as pd\n",
    "df2 = pd.DataFrame({'A':[100,200],'B':[300, 400]})\n",
    "df3 = pd.DataFrame({'A':[500,600],'B':[700, 800]})\n",
    "calculate=pd.concat([df2,df3],axis=1)\n",
    "print(calculate)"
   ]
  },
  {
   "cell_type": "code",
   "execution_count": null,
   "id": "cb5662b6-c0ac-4295-b1db-edf4f8efc4e1",
   "metadata": {},
   "outputs": [],
   "source": [
    "import pandas as pd\n",
    "df4=pd.DataFrame({'ID':[100, 200, 300],'Name':['Divya','Jiji','Anila']})\n",
    "df5=pd.DataFrame({'ID':[200, 300, 600],'Age':[22,25,28]})\n",
    "problem=pd.merge(df4,df5,on='ID')\n",
    "print(problem)"
   ]
  },
  {
   "cell_type": "code",
   "execution_count": 38,
   "id": "c2e23008-b5ad-4d2e-b18d-29ec53e9bb29",
   "metadata": {},
   "outputs": [
    {
     "name": "stdout",
     "output_type": "stream",
     "text": [
      "    A    B\n",
      "0  40  100\n",
      "1  60  120\n",
      "2  80  140\n"
     ]
    }
   ],
   "source": [
    "import pandas as pd\n",
    "df6=pd.DataFrame({'A':[10,20,30],'B':[40,50,60]})\n",
    "def add_constant(df,constant):\n",
    "    return df+constant\n",
    "concat=df6.pipe(add_constant,10).pipe(lambda x:x*2)\n",
    "print(concat)"
   ]
  },
  {
   "cell_type": "code",
   "execution_count": 48,
   "id": "69d83384-59c1-48fe-86e5-9fa21335b522",
   "metadata": {},
   "outputs": [
    {
     "name": "stdout",
     "output_type": "stream",
     "text": [
      "A     60\n",
      "B    150\n",
      "dtype: int64\n"
     ]
    }
   ],
   "source": [
    "import pandas as pd\n",
    "df7=pd.DataFrame({'A':[10,20,30],'B':[40,50,60]})\n",
    "column=df7.apply(lambda x:x.sum(),axis=0)\n",
    "rows=df7.apply(lambda x:x.sum(),axis=1)\n",
    "print(column)"
   ]
  },
  {
   "cell_type": "code",
   "execution_count": 50,
   "id": "6f05f940-cde9-4e93-929b-058811427f83",
   "metadata": {},
   "outputs": [
    {
     "name": "stdout",
     "output_type": "stream",
     "text": [
      "0    50\n",
      "1    70\n",
      "2    90\n",
      "dtype: int64\n"
     ]
    }
   ],
   "source": [
    "rows=df7.apply(lambda x:x.sum(),axis=1)\n",
    "print(rows)"
   ]
  },
  {
   "cell_type": "code",
   "execution_count": 56,
   "id": "7dc2c01a-8693-4688-b2c8-f6cdbd488bb9",
   "metadata": {},
   "outputs": [
    {
     "name": "stdout",
     "output_type": "stream",
     "text": [
      "      A     B\n",
      "0  1000  4000\n",
      "1  2000  5000\n",
      "2  3000  6000\n"
     ]
    },
    {
     "name": "stderr",
     "output_type": "stream",
     "text": [
      "C:\\Users\\Diyanjali\\AppData\\Local\\Temp\\ipykernel_6060\\2580338230.py:3: FutureWarning: DataFrame.applymap has been deprecated. Use DataFrame.map instead.\n",
      "  condition=df8.applymap(lambda x:x*10)\n"
     ]
    }
   ],
   "source": [
    "import pandas as pd\n",
    "df8=pd.DataFrame({'A':[100,200,300],'B':[400,500,600]})\n",
    "condition=df8.applymap(lambda x:x*10)\n",
    "print(condition)"
   ]
  },
  {
   "cell_type": "code",
   "execution_count": null,
   "id": "7a9f30a7-79b3-44ca-9d78-203b41de883e",
   "metadata": {},
   "outputs": [],
   "source": []
  }
 ],
 "metadata": {
  "kernelspec": {
   "display_name": "Python [conda env:base] *",
   "language": "python",
   "name": "conda-base-py"
  },
  "language_info": {
   "codemirror_mode": {
    "name": "ipython",
    "version": 3
   },
   "file_extension": ".py",
   "mimetype": "text/x-python",
   "name": "python",
   "nbconvert_exporter": "python",
   "pygments_lexer": "ipython3",
   "version": "3.12.7"
  }
 },
 "nbformat": 4,
 "nbformat_minor": 5
}
